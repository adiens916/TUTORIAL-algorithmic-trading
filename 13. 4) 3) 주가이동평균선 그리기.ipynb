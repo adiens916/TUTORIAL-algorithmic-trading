{
 "cells": [
  {
   "cell_type": "markdown",
   "id": "1ec1d952",
   "metadata": {},
   "source": [
    "# 주가이동평균 구하기 복습"
   ]
  },
  {
   "cell_type": "code",
   "execution_count": 4,
   "id": "1fd34b2a",
   "metadata": {},
   "outputs": [],
   "source": [
    "# 주가이동평균 구하기\n",
    "import pandas as pd\n",
    "import pandas_datareader.data as web"
   ]
  },
  {
   "cell_type": "code",
   "execution_count": 5,
   "id": "a9bb740a",
   "metadata": {},
   "outputs": [],
   "source": [
    "gs = web.DataReader(\"078930.ks\", \"yahoo\", \"2014-01-01\", \"2016-03-06\")"
   ]
  },
  {
   "cell_type": "code",
   "execution_count": 6,
   "id": "4cf1be59",
   "metadata": {},
   "outputs": [
    {
     "data": {
      "text/html": [
       "<div>\n",
       "<style scoped>\n",
       "    .dataframe tbody tr th:only-of-type {\n",
       "        vertical-align: middle;\n",
       "    }\n",
       "\n",
       "    .dataframe tbody tr th {\n",
       "        vertical-align: top;\n",
       "    }\n",
       "\n",
       "    .dataframe thead th {\n",
       "        text-align: right;\n",
       "    }\n",
       "</style>\n",
       "<table border=\"1\" class=\"dataframe\">\n",
       "  <thead>\n",
       "    <tr style=\"text-align: right;\">\n",
       "      <th></th>\n",
       "      <th>High</th>\n",
       "      <th>Low</th>\n",
       "      <th>Open</th>\n",
       "      <th>Close</th>\n",
       "      <th>Volume</th>\n",
       "      <th>Adj Close</th>\n",
       "    </tr>\n",
       "    <tr>\n",
       "      <th>Date</th>\n",
       "      <th></th>\n",
       "      <th></th>\n",
       "      <th></th>\n",
       "      <th></th>\n",
       "      <th></th>\n",
       "      <th></th>\n",
       "    </tr>\n",
       "  </thead>\n",
       "  <tbody>\n",
       "    <tr>\n",
       "      <th>2016-02-26</th>\n",
       "      <td>54500.0</td>\n",
       "      <td>53200.0</td>\n",
       "      <td>54300.0</td>\n",
       "      <td>53300.0</td>\n",
       "      <td>159453.0</td>\n",
       "      <td>44327.496094</td>\n",
       "    </tr>\n",
       "    <tr>\n",
       "      <th>2016-02-29</th>\n",
       "      <td>53900.0</td>\n",
       "      <td>52800.0</td>\n",
       "      <td>53000.0</td>\n",
       "      <td>53000.0</td>\n",
       "      <td>154692.0</td>\n",
       "      <td>44077.996094</td>\n",
       "    </tr>\n",
       "    <tr>\n",
       "      <th>2016-03-02</th>\n",
       "      <td>55200.0</td>\n",
       "      <td>53500.0</td>\n",
       "      <td>53900.0</td>\n",
       "      <td>55100.0</td>\n",
       "      <td>229999.0</td>\n",
       "      <td>45824.488281</td>\n",
       "    </tr>\n",
       "    <tr>\n",
       "      <th>2016-03-03</th>\n",
       "      <td>55800.0</td>\n",
       "      <td>54300.0</td>\n",
       "      <td>55300.0</td>\n",
       "      <td>55000.0</td>\n",
       "      <td>217063.0</td>\n",
       "      <td>45741.312500</td>\n",
       "    </tr>\n",
       "    <tr>\n",
       "      <th>2016-03-04</th>\n",
       "      <td>54800.0</td>\n",
       "      <td>53200.0</td>\n",
       "      <td>54700.0</td>\n",
       "      <td>54200.0</td>\n",
       "      <td>237934.0</td>\n",
       "      <td>45075.992188</td>\n",
       "    </tr>\n",
       "  </tbody>\n",
       "</table>\n",
       "</div>"
      ],
      "text/plain": [
       "               High      Low     Open    Close    Volume     Adj Close\n",
       "Date                                                                  \n",
       "2016-02-26  54500.0  53200.0  54300.0  53300.0  159453.0  44327.496094\n",
       "2016-02-29  53900.0  52800.0  53000.0  53000.0  154692.0  44077.996094\n",
       "2016-03-02  55200.0  53500.0  53900.0  55100.0  229999.0  45824.488281\n",
       "2016-03-03  55800.0  54300.0  55300.0  55000.0  217063.0  45741.312500\n",
       "2016-03-04  54800.0  53200.0  54700.0  54200.0  237934.0  45075.992188"
      ]
     },
     "execution_count": 6,
     "metadata": {},
     "output_type": "execute_result"
    }
   ],
   "source": [
    "gs.tail()"
   ]
  },
  {
   "cell_type": "code",
   "execution_count": 13,
   "id": "4c16f81d",
   "metadata": {},
   "outputs": [],
   "source": [
    "# 날짜에 맞춰 변수 일괄 생성 \n",
    "days = (5, 20, 60, 120)\n",
    "for n in days:\n",
    "    globals()[f\"ma{n}\"] = gs[\"Adj Close\"].rolling(window=n).mean()"
   ]
  },
  {
   "cell_type": "code",
   "execution_count": 12,
   "id": "0344d311",
   "metadata": {},
   "outputs": [
    {
     "data": {
      "text/plain": [
       "Date\n",
       "2014-01-02             NaN\n",
       "2014-01-03             NaN\n",
       "2014-01-06             NaN\n",
       "2014-01-07             NaN\n",
       "2014-01-08             NaN\n",
       "                  ...     \n",
       "2016-02-26    40259.457780\n",
       "2016-02-29    40317.293034\n",
       "2016-03-02    40392.373503\n",
       "2016-03-03    40468.106413\n",
       "2016-03-04    40543.004460\n",
       "Name: Adj Close, Length: 535, dtype: float64"
      ]
     },
     "execution_count": 12,
     "metadata": {},
     "output_type": "execute_result"
    }
   ],
   "source": [
    "ma120"
   ]
  },
  {
   "cell_type": "code",
   "execution_count": 8,
   "id": "74b14667",
   "metadata": {},
   "outputs": [
    {
     "data": {
      "text/plain": [
       "Index(['High', 'Low', 'Open', 'Close', 'Volume', 'Adj Close'], dtype='object')"
      ]
     },
     "execution_count": 8,
     "metadata": {},
     "output_type": "execute_result"
    }
   ],
   "source": [
    "gs.columns"
   ]
  },
  {
   "cell_type": "code",
   "execution_count": 14,
   "id": "bab11491",
   "metadata": {},
   "outputs": [],
   "source": [
    "# gs 주식 정보에 이평선 정보 추가하기\n",
    "for n in days:\n",
    "    gs.insert(len(gs.columns), f\"MA{n}\", globals()[f\"ma{n}\"])"
   ]
  },
  {
   "cell_type": "code",
   "execution_count": 15,
   "id": "291600a0",
   "metadata": {},
   "outputs": [
    {
     "data": {
      "text/html": [
       "<div>\n",
       "<style scoped>\n",
       "    .dataframe tbody tr th:only-of-type {\n",
       "        vertical-align: middle;\n",
       "    }\n",
       "\n",
       "    .dataframe tbody tr th {\n",
       "        vertical-align: top;\n",
       "    }\n",
       "\n",
       "    .dataframe thead th {\n",
       "        text-align: right;\n",
       "    }\n",
       "</style>\n",
       "<table border=\"1\" class=\"dataframe\">\n",
       "  <thead>\n",
       "    <tr style=\"text-align: right;\">\n",
       "      <th></th>\n",
       "      <th>High</th>\n",
       "      <th>Low</th>\n",
       "      <th>Open</th>\n",
       "      <th>Close</th>\n",
       "      <th>Volume</th>\n",
       "      <th>Adj Close</th>\n",
       "      <th>MA5</th>\n",
       "      <th>MA20</th>\n",
       "      <th>MA60</th>\n",
       "      <th>MA120</th>\n",
       "    </tr>\n",
       "    <tr>\n",
       "      <th>Date</th>\n",
       "      <th></th>\n",
       "      <th></th>\n",
       "      <th></th>\n",
       "      <th></th>\n",
       "      <th></th>\n",
       "      <th></th>\n",
       "      <th></th>\n",
       "      <th></th>\n",
       "      <th></th>\n",
       "      <th></th>\n",
       "    </tr>\n",
       "  </thead>\n",
       "  <tbody>\n",
       "    <tr>\n",
       "      <th>2016-02-26</th>\n",
       "      <td>54500.0</td>\n",
       "      <td>53200.0</td>\n",
       "      <td>54300.0</td>\n",
       "      <td>53300.0</td>\n",
       "      <td>159453.0</td>\n",
       "      <td>44327.496094</td>\n",
       "      <td>43895.031250</td>\n",
       "      <td>42433.389062</td>\n",
       "      <td>41287.440169</td>\n",
       "      <td>40259.457780</td>\n",
       "    </tr>\n",
       "    <tr>\n",
       "      <th>2016-02-29</th>\n",
       "      <td>53900.0</td>\n",
       "      <td>52800.0</td>\n",
       "      <td>53000.0</td>\n",
       "      <td>53000.0</td>\n",
       "      <td>154692.0</td>\n",
       "      <td>44077.996094</td>\n",
       "      <td>44327.493750</td>\n",
       "      <td>42626.750000</td>\n",
       "      <td>41325.067578</td>\n",
       "      <td>40317.293034</td>\n",
       "    </tr>\n",
       "    <tr>\n",
       "      <th>2016-03-02</th>\n",
       "      <td>55200.0</td>\n",
       "      <td>53500.0</td>\n",
       "      <td>53900.0</td>\n",
       "      <td>55100.0</td>\n",
       "      <td>229999.0</td>\n",
       "      <td>45824.488281</td>\n",
       "      <td>44710.058594</td>\n",
       "      <td>42867.931641</td>\n",
       "      <td>41409.295573</td>\n",
       "      <td>40392.373503</td>\n",
       "    </tr>\n",
       "    <tr>\n",
       "      <th>2016-03-03</th>\n",
       "      <td>55800.0</td>\n",
       "      <td>54300.0</td>\n",
       "      <td>55300.0</td>\n",
       "      <td>55000.0</td>\n",
       "      <td>217063.0</td>\n",
       "      <td>45741.312500</td>\n",
       "      <td>44959.556250</td>\n",
       "      <td>43059.213086</td>\n",
       "      <td>41475.990430</td>\n",
       "      <td>40468.106413</td>\n",
       "    </tr>\n",
       "    <tr>\n",
       "      <th>2016-03-04</th>\n",
       "      <td>54800.0</td>\n",
       "      <td>53200.0</td>\n",
       "      <td>54700.0</td>\n",
       "      <td>54200.0</td>\n",
       "      <td>237934.0</td>\n",
       "      <td>45075.992188</td>\n",
       "      <td>45009.457031</td>\n",
       "      <td>43183.962109</td>\n",
       "      <td>41538.324414</td>\n",
       "      <td>40543.004460</td>\n",
       "    </tr>\n",
       "  </tbody>\n",
       "</table>\n",
       "</div>"
      ],
      "text/plain": [
       "               High      Low     Open    Close    Volume     Adj Close  \\\n",
       "Date                                                                     \n",
       "2016-02-26  54500.0  53200.0  54300.0  53300.0  159453.0  44327.496094   \n",
       "2016-02-29  53900.0  52800.0  53000.0  53000.0  154692.0  44077.996094   \n",
       "2016-03-02  55200.0  53500.0  53900.0  55100.0  229999.0  45824.488281   \n",
       "2016-03-03  55800.0  54300.0  55300.0  55000.0  217063.0  45741.312500   \n",
       "2016-03-04  54800.0  53200.0  54700.0  54200.0  237934.0  45075.992188   \n",
       "\n",
       "                     MA5          MA20          MA60         MA120  \n",
       "Date                                                                \n",
       "2016-02-26  43895.031250  42433.389062  41287.440169  40259.457780  \n",
       "2016-02-29  44327.493750  42626.750000  41325.067578  40317.293034  \n",
       "2016-03-02  44710.058594  42867.931641  41409.295573  40392.373503  \n",
       "2016-03-03  44959.556250  43059.213086  41475.990430  40468.106413  \n",
       "2016-03-04  45009.457031  43183.962109  41538.324414  40543.004460  "
      ]
     },
     "execution_count": 15,
     "metadata": {},
     "output_type": "execute_result"
    }
   ],
   "source": [
    "gs.tail()"
   ]
  },
  {
   "cell_type": "markdown",
   "id": "b6e9e49d",
   "metadata": {},
   "source": [
    "# 주가이동평균선 그리기"
   ]
  },
  {
   "cell_type": "code",
   "execution_count": 60,
   "id": "a91af32b",
   "metadata": {},
   "outputs": [],
   "source": [
    "# matplotlib 패키지의 pyplot 모듈을 가져온다.\n",
    "import matplotlib.pyplot as plt\n",
    "\n",
    "# 아래 줄을 입력해야 제대로 된 그래프를 볼 수 있다.\n",
    "# 입력 안 하면 별개의 그래프만 보이고, 범례도 안 먹힌다.\n",
    "# 참고: https://versusall.tistory.com/entry/Jupyter-Notebook-4-%EC%99%B8%EB%B6%80%EC%B0%BD%EC%97%90%EC%84%9C-%EA%B7%B8%EB%9E%98%ED%94%84-%EA%B7%B8%EB%A6%AC%EA%B8%B0-matplotlib-inline-qt-tk%C2%B6\n",
    "%matplotlib qt"
   ]
  },
  {
   "cell_type": "code",
   "execution_count": 61,
   "id": "359eb7ff",
   "metadata": {},
   "outputs": [
    {
     "data": {
      "text/plain": [
       "DatetimeIndex(['2014-01-02', '2014-01-03', '2014-01-06', '2014-01-07',\n",
       "               '2014-01-08', '2014-01-09', '2014-01-10', '2014-01-13',\n",
       "               '2014-01-14', '2014-01-15',\n",
       "               ...\n",
       "               '2016-02-19', '2016-02-22', '2016-02-23', '2016-02-24',\n",
       "               '2016-02-25', '2016-02-26', '2016-02-29', '2016-03-02',\n",
       "               '2016-03-03', '2016-03-04'],\n",
       "              dtype='datetime64[ns]', name='Date', length=535, freq=None)"
      ]
     },
     "execution_count": 61,
     "metadata": {},
     "output_type": "execute_result"
    }
   ],
   "source": [
    "gs.index"
   ]
  },
  {
   "cell_type": "code",
   "execution_count": 62,
   "id": "921a45ec",
   "metadata": {},
   "outputs": [
    {
     "data": {
      "text/plain": [
       "[<matplotlib.lines.Line2D at 0xd875730>]"
      ]
     },
     "execution_count": 62,
     "metadata": {},
     "output_type": "execute_result"
    }
   ],
   "source": [
    "plt.plot(gs.index, gs[\"Adj Close\"], label=\"Adj Close\")"
   ]
  },
  {
   "cell_type": "code",
   "execution_count": 63,
   "id": "40ff62e7",
   "metadata": {},
   "outputs": [
    {
     "data": {
      "text/plain": [
       "[<matplotlib.lines.Line2D at 0xa7d3070>]"
      ]
     },
     "execution_count": 63,
     "metadata": {},
     "output_type": "execute_result"
    }
   ],
   "source": [
    "# 차례대로 쌓아올리기\n",
    "plt.plot(gs.index, gs[\"MA5\"], label=\"MA5\")\n",
    "plt.plot(gs.index, gs[\"MA20\"], label=\"MA20\")\n",
    "plt.plot(gs.index, gs[\"MA60\"], label=\"MA60\")\n",
    "plt.plot(gs.index, gs[\"MA120\"], label=\"MA120\")"
   ]
  },
  {
   "cell_type": "code",
   "execution_count": 64,
   "id": "30299525",
   "metadata": {},
   "outputs": [],
   "source": [
    "# 범례 위치\n",
    "plt.legend(loc=\"best\")\n",
    "\n",
    "# 격자 그리기\n",
    "plt.grid()"
   ]
  }
 ],
 "metadata": {
  "kernelspec": {
   "display_name": "Python 3",
   "language": "python",
   "name": "python3"
  },
  "language_info": {
   "codemirror_mode": {
    "name": "ipython",
    "version": 3
   },
   "file_extension": ".py",
   "mimetype": "text/x-python",
   "name": "python",
   "nbconvert_exporter": "python",
   "pygments_lexer": "ipython3",
   "version": "3.8.8"
  },
  "toc": {
   "base_numbering": 1,
   "nav_menu": {},
   "number_sections": true,
   "sideBar": true,
   "skip_h1_title": false,
   "title_cell": "Table of Contents",
   "title_sidebar": "Contents",
   "toc_cell": false,
   "toc_position": {},
   "toc_section_display": true,
   "toc_window_display": false
  }
 },
 "nbformat": 4,
 "nbformat_minor": 5
}
