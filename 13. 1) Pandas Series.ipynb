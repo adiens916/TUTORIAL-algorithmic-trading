{
 "cells": [
  {
   "cell_type": "code",
   "execution_count": 1,
   "id": "eff529d1",
   "metadata": {},
   "outputs": [],
   "source": [
    "from pandas import Series, DataFrame"
   ]
  },
  {
   "cell_type": "code",
   "execution_count": 3,
   "id": "fe68aeb1",
   "metadata": {},
   "outputs": [
    {
     "data": {
      "text/plain": [
       "0    92600\n",
       "1    92400\n",
       "2    92100\n",
       "3    94300\n",
       "4    92300\n",
       "dtype: int64"
      ]
     },
     "execution_count": 3,
     "metadata": {},
     "output_type": "execute_result"
    }
   ],
   "source": [
    "# Series에 리스트를 넣음\n",
    "kakao = Series([92600, 92400, 92100, 94300, 92300])\n",
    "kakao"
   ]
  },
  {
   "cell_type": "code",
   "execution_count": 4,
   "id": "b4674ae6",
   "metadata": {},
   "outputs": [
    {
     "name": "stdout",
     "output_type": "stream",
     "text": [
      "92600\n",
      "92100\n",
      "92300\n"
     ]
    }
   ],
   "source": [
    "# 리스트처럼 인덱싱 가능\n",
    "print(kakao[0])\n",
    "print(kakao[2])\n",
    "print(kakao[4])"
   ]
  },
  {
   "cell_type": "code",
   "execution_count": 5,
   "id": "3438cf23",
   "metadata": {},
   "outputs": [
    {
     "data": {
      "text/plain": [
       "2016-02-19    92600\n",
       "2016-02-18    92400\n",
       "2016-02-17    92100\n",
       "2016-02-16    94300\n",
       "2016-02-15    92300\n",
       "dtype: int64"
      ]
     },
     "execution_count": 5,
     "metadata": {},
     "output_type": "execute_result"
    }
   ],
   "source": [
    "# 인덱싱 값 지정\n",
    "kakao2 = Series([92600, 92400, 92100, 94300, 92300], \n",
    "                index=['2016-02-19', '2016-02-18', '2016-02-17',\n",
    "                      '2016-02-16', '2016-02-15'])\n",
    "kakao2"
   ]
  },
  {
   "cell_type": "code",
   "execution_count": 6,
   "id": "4aa38e5f",
   "metadata": {},
   "outputs": [
    {
     "name": "stdout",
     "output_type": "stream",
     "text": [
      "92600\n"
     ]
    }
   ],
   "source": [
    "# 딕셔너리처럼 바로 값 얻을 수 있음\n",
    "print(kakao2['2016-02-19'])"
   ]
  },
  {
   "cell_type": "code",
   "execution_count": 7,
   "id": "1bfc691e",
   "metadata": {},
   "outputs": [
    {
     "name": "stdout",
     "output_type": "stream",
     "text": [
      "2016-02-19\n",
      "2016-02-18\n",
      "2016-02-17\n",
      "2016-02-16\n",
      "2016-02-15\n",
      "92600\n",
      "92400\n",
      "92100\n",
      "94300\n",
      "92300\n"
     ]
    }
   ],
   "source": [
    "# index와 values 속성을 통해 차례대로 접근 가능\n",
    "for date in kakao2.index:\n",
    "    print(date)\n",
    "\n",
    "for price in kakao2.values:\n",
    "    print(price)"
   ]
  },
  {
   "cell_type": "code",
   "execution_count": 8,
   "id": "85de1477",
   "metadata": {},
   "outputs": [],
   "source": [
    "# 서로 인덱스 순서가 다른 상황\n",
    "mine   = Series([10, 20, 30], index=['naver', 'sk', 'kt'])\n",
    "friend = Series([10, 30, 20], index=['kt', 'naver', 'sk'])"
   ]
  },
  {
   "cell_type": "code",
   "execution_count": null,
   "id": "e43f704d",
   "metadata": {},
   "outputs": [],
   "source": [
    "# Series의 더하기는 "
   ]
  }
 ],
 "metadata": {
  "kernelspec": {
   "display_name": "Python 3",
   "language": "python",
   "name": "python3"
  },
  "language_info": {
   "codemirror_mode": {
    "name": "ipython",
    "version": 3
   },
   "file_extension": ".py",
   "mimetype": "text/x-python",
   "name": "python",
   "nbconvert_exporter": "python",
   "pygments_lexer": "ipython3",
   "version": "3.8.8"
  },
  "toc": {
   "base_numbering": 1,
   "nav_menu": {},
   "number_sections": true,
   "sideBar": true,
   "skip_h1_title": false,
   "title_cell": "Table of Contents",
   "title_sidebar": "Contents",
   "toc_cell": false,
   "toc_position": {},
   "toc_section_display": true,
   "toc_window_display": false
  }
 },
 "nbformat": 4,
 "nbformat_minor": 5
}
