{
 "cells": [
  {
   "cell_type": "markdown",
   "id": "84e0ef66",
   "metadata": {},
   "source": [
    "# 14. Pandas와 zipline을 이용한 백테스팅 (revision)"
   ]
  },
  {
   "cell_type": "markdown",
   "id": "134ea9b7",
   "metadata": {},
   "source": [
    "14장에서는 pandas와 알고리즘 트레이딩 라이브러리인 Zipline을 이용해 백테스팅(backtesting) 환경을 꾸미는 방법을 배워보겠습니다. 알고리즘 트레이딩이 기존의 전통적인 투자 관리 기법과 다른 점이 바로 **백테스팅을 통해 알고리즘을 검증**한다는 점입니다.\n",
    "\n",
    "여러분만의 투자 알고리즘을 개발했다면 이를 이용한 실전 투자를 하기 앞서 가장 먼저 해야 할 일이 바로 백테스팅입니다. 여기서 백테스팅이란 **개발된 알고리즘을 과거 데이터를 사용해 검증**해보는 것을 의미합니다. 과거 데이터를 사용하기 때문에 back이라는 영어 단어와 알고리즘을 테스트하기 때문에 testing이라는 영어 단어가 사용됩니다.\n",
    "\n",
    "물론 개발된 알고리즘을 테스트하는 가장 좋은 방법은 미래의 데이터를 사용하는 겁니다. 그러나 **현시점보다 미래의 데이터를 얻을 방법은 없으며 알고리즘을 검증하지 않고 막연히 잘 될 것 같다는 직감을 갖고 실전 투자에 임하는 것은 매우 위험**합니다.\n",
    "\n",
    "여러분이 개발한 알고리즘뿐 아니라 시장에서 널리 통용되고 있는 투자 기법에 대해 백테스팅을 해보는 것도 상당히 유용합니다. 기존 알고리즘에 대한 백테스팅을 수행해봄으로써 기존 알고리즘을 더욱 정확히 이해할 수 있게 됩니다. 이를 통해 기존의 알고리즘에 대한 개선점 등을 찾을 수 있고 이를 여러분만의 알고리즘 트레이딩 시스템에 적용할 수도 있을 것입니다."
   ]
  },
  {
   "cell_type": "markdown",
   "id": "61ad66d1",
   "metadata": {},
   "source": [
    "## Zipline 대신에 backtrader 라는 라이브러리 추천  \n",
    "Zipline 만든 회사가 21년 초에 망함. 노 업뎃\n",
    "출처: 댓글"
   ]
  }
 ],
 "metadata": {
  "kernelspec": {
   "display_name": "Python 3",
   "language": "python",
   "name": "python3"
  },
  "language_info": {
   "codemirror_mode": {
    "name": "ipython",
    "version": 3
   },
   "file_extension": ".py",
   "mimetype": "text/x-python",
   "name": "python",
   "nbconvert_exporter": "python",
   "pygments_lexer": "ipython3",
   "version": "3.7.10"
  },
  "toc": {
   "base_numbering": 1,
   "nav_menu": {},
   "number_sections": true,
   "sideBar": true,
   "skip_h1_title": false,
   "title_cell": "Table of Contents",
   "title_sidebar": "Contents",
   "toc_cell": false,
   "toc_position": {},
   "toc_section_display": true,
   "toc_window_display": false
  }
 },
 "nbformat": 4,
 "nbformat_minor": 5
}
