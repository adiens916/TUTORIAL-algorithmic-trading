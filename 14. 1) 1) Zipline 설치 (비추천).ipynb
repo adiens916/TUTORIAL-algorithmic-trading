{
 "cells": [
  {
   "cell_type": "markdown",
   "id": "b92b9438",
   "metadata": {},
   "source": [
    "# Zipline 시작하기\n",
    "\n",
    "\n",
    "Zipline은 알고리즘 트레이딩 라이브러리로서 백테스팅 기능을 제공합니다. \n",
    "\n",
    "Zipline은 Quantopian사에 의해 깃허브(https://github.com/quantopian/zipline)를 통해 오픈소스로 개발되고 있습니다. 여기서 오픈소스란 소스코드가 공개돼 있고 누구나 개발에 참여할 수 있는 개발 환경을 의미합니다.\n",
    "\n",
    "Zipline은 무료로 사용할 수 있으며, 오픈소스이고 무엇보다 사용하기 편리합니다. 또한 pandas, Matplotlib, Scipy 같은 다양한 파이썬 라이브러리와 쉽게 연동해서 사용할 수 있으므로 매우 유용한 도구입니다."
   ]
  },
  {
   "cell_type": "markdown",
   "id": "28da09ae",
   "metadata": {},
   "source": [
    "## Zipline 설치 간단 요약\n",
    "그냥 인터넷 참고해도 됨\n",
    "\n",
    "### cmd를 관리자 권한으로 실행\n",
    "안 하면 패키지 설치 시 오류 남\n",
    "\n",
    "### anaconda로 Python 3.5 버젼 설치  \n",
    "conda create -n py35 python=3.5 anaconda\n",
    "\n",
    "<주의>  \n",
    "Zipline 자체에서 Python 3.6 버젼도 된다는데 안 됨.  \n",
    "3.6 버젼으로 하면 networkx라는 패키지 버젼이 호환이 안 됨.  \n",
    "(zipline에선 2.0 미만을 요구하는데, 다른 데서는 2.0 이상을 요구하기 때문.)\n",
    "\n",
    "댓글에선 3.6으로 해도 성공했다고 함.  "
   ]
  },
  {
   "cell_type": "markdown",
   "id": "6b312bb0",
   "metadata": {},
   "source": [
    "### Visual Studio 2019 설치 (혹은 그 이후 버젼)\n",
    "이때 C++ 구성 요소 선택해서 설치\n",
    "\n",
    "<이유>  \n",
    "Visual C 14.0 컴파일러를 위해 설치  \n",
    "Visual C 컴파일러는 C/C 코드로 구현된 파이썬 패키지를 설치할 때 필요  \n",
    "Zipline은 C로 구현되어 있는 듯"
   ]
  },
  {
   "cell_type": "markdown",
   "id": "185bd16d",
   "metadata": {},
   "source": [
    "### pip install --upgrade setuptools 실행\n",
    "왠지는 모르겠는데, 이걸 해야 오류가 안 난다."
   ]
  },
  {
   "cell_type": "markdown",
   "id": "53062134",
   "metadata": {},
   "source": [
    "### pip install zipline"
   ]
  }
 ],
 "metadata": {
  "kernelspec": {
   "display_name": "Python 3",
   "language": "python",
   "name": "python3"
  },
  "language_info": {
   "codemirror_mode": {
    "name": "ipython",
    "version": 3
   },
   "file_extension": ".py",
   "mimetype": "text/x-python",
   "name": "python",
   "nbconvert_exporter": "python",
   "pygments_lexer": "ipython3",
   "version": "3.7.10"
  },
  "toc": {
   "base_numbering": 1,
   "nav_menu": {},
   "number_sections": true,
   "sideBar": true,
   "skip_h1_title": false,
   "title_cell": "Table of Contents",
   "title_sidebar": "Contents",
   "toc_cell": false,
   "toc_position": {},
   "toc_section_display": true,
   "toc_window_display": false
  }
 },
 "nbformat": 4,
 "nbformat_minor": 5
}
