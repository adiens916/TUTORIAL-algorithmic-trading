{
 "cells": [
  {
   "cell_type": "markdown",
   "id": "b3601aff",
   "metadata": {},
   "source": [
    "DataReader 함수 -> 웹 상의 데이터를 DataFrame 객체로 만드는 기능"
   ]
  },
  {
   "cell_type": "code",
   "execution_count": null,
   "id": "7a66603b",
   "metadata": {},
   "outputs": [],
   "source": [
    "import pandas_datareader"
   ]
  },
  {
   "cell_type": "code",
   "execution_count": 2,
   "id": "1d30024d",
   "metadata": {},
   "outputs": [
    {
     "data": {
      "text/plain": [
       "<module 'pandas_datareader' from 'C:\\\\ProgramData\\\\Anaconda3\\\\lib\\\\site-packages\\\\pandas_datareader\\\\__init__.py'>"
      ]
     },
     "execution_count": 2,
     "metadata": {},
     "output_type": "execute_result"
    }
   ],
   "source": [
    "pandas_datareader"
   ]
  },
  {
   "cell_type": "code",
   "execution_count": 3,
   "id": "2b4523bb",
   "metadata": {},
   "outputs": [],
   "source": [
    "import pandas_datareader.data as web"
   ]
  },
  {
   "cell_type": "code",
   "execution_count": 4,
   "id": "3c4c1988",
   "metadata": {},
   "outputs": [
    {
     "data": {
      "text/plain": [
       "<module 'pandas_datareader.data' from 'C:\\\\ProgramData\\\\Anaconda3\\\\lib\\\\site-packages\\\\pandas_datareader\\\\data.py'>"
      ]
     },
     "execution_count": 4,
     "metadata": {},
     "output_type": "execute_result"
    }
   ],
   "source": [
    "web"
   ]
  },
  {
   "cell_type": "code",
   "execution_count": 5,
   "id": "05c57490",
   "metadata": {},
   "outputs": [],
   "source": [
    "import datetime"
   ]
  },
  {
   "cell_type": "code",
   "execution_count": 6,
   "id": "ee72adad",
   "metadata": {},
   "outputs": [],
   "source": [
    "start = datetime.datetime(2016, 2, 19)\n",
    "end = datetime.datetime(2016, 3, 4)"
   ]
  },
  {
   "cell_type": "code",
   "execution_count": 7,
   "id": "a935e38d",
   "metadata": {},
   "outputs": [
    {
     "name": "stdout",
     "output_type": "stream",
     "text": [
      "2016-02-19 00:00:00 2016-03-04 00:00:00\n"
     ]
    }
   ],
   "source": [
    "print(start, end)"
   ]
  },
  {
   "cell_type": "code",
   "execution_count": 13,
   "id": "d6343194",
   "metadata": {},
   "outputs": [],
   "source": [
    "# DataReader 함수를 이용해 데이터 조회하기\n",
    "# 종목 번호와 데이터를 가져올 소스(야후)를 입력\n",
    "\n",
    "gs = web.DataReader(\"078930.KS\", \"yahoo\", start, end)"
   ]
  },
  {
   "cell_type": "code",
   "execution_count": 14,
   "id": "2f5cb426",
   "metadata": {},
   "outputs": [
    {
     "data": {
      "text/html": [
       "<div>\n",
       "<style scoped>\n",
       "    .dataframe tbody tr th:only-of-type {\n",
       "        vertical-align: middle;\n",
       "    }\n",
       "\n",
       "    .dataframe tbody tr th {\n",
       "        vertical-align: top;\n",
       "    }\n",
       "\n",
       "    .dataframe thead th {\n",
       "        text-align: right;\n",
       "    }\n",
       "</style>\n",
       "<table border=\"1\" class=\"dataframe\">\n",
       "  <thead>\n",
       "    <tr style=\"text-align: right;\">\n",
       "      <th></th>\n",
       "      <th>High</th>\n",
       "      <th>Low</th>\n",
       "      <th>Open</th>\n",
       "      <th>Close</th>\n",
       "      <th>Volume</th>\n",
       "      <th>Adj Close</th>\n",
       "    </tr>\n",
       "    <tr>\n",
       "      <th>Date</th>\n",
       "      <th></th>\n",
       "      <th></th>\n",
       "      <th></th>\n",
       "      <th></th>\n",
       "      <th></th>\n",
       "      <th></th>\n",
       "    </tr>\n",
       "  </thead>\n",
       "  <tbody>\n",
       "    <tr>\n",
       "      <th>2016-02-19</th>\n",
       "      <td>51100</td>\n",
       "      <td>49950</td>\n",
       "      <td>50300</td>\n",
       "      <td>50600</td>\n",
       "      <td>301800</td>\n",
       "      <td>42082.011719</td>\n",
       "    </tr>\n",
       "    <tr>\n",
       "      <th>2016-02-22</th>\n",
       "      <td>50800</td>\n",
       "      <td>49850</td>\n",
       "      <td>50300</td>\n",
       "      <td>50400</td>\n",
       "      <td>153961</td>\n",
       "      <td>41915.683594</td>\n",
       "    </tr>\n",
       "    <tr>\n",
       "      <th>2016-02-23</th>\n",
       "      <td>53000</td>\n",
       "      <td>50800</td>\n",
       "      <td>50800</td>\n",
       "      <td>52800</td>\n",
       "      <td>431934</td>\n",
       "      <td>43911.664062</td>\n",
       "    </tr>\n",
       "    <tr>\n",
       "      <th>2016-02-24</th>\n",
       "      <td>53500</td>\n",
       "      <td>51900</td>\n",
       "      <td>52000</td>\n",
       "      <td>53500</td>\n",
       "      <td>259616</td>\n",
       "      <td>44493.824219</td>\n",
       "    </tr>\n",
       "    <tr>\n",
       "      <th>2016-02-25</th>\n",
       "      <td>54700</td>\n",
       "      <td>52700</td>\n",
       "      <td>53900</td>\n",
       "      <td>53900</td>\n",
       "      <td>170839</td>\n",
       "      <td>44826.488281</td>\n",
       "    </tr>\n",
       "    <tr>\n",
       "      <th>2016-02-26</th>\n",
       "      <td>54500</td>\n",
       "      <td>53200</td>\n",
       "      <td>54300</td>\n",
       "      <td>53300</td>\n",
       "      <td>159453</td>\n",
       "      <td>44327.496094</td>\n",
       "    </tr>\n",
       "    <tr>\n",
       "      <th>2016-02-29</th>\n",
       "      <td>53900</td>\n",
       "      <td>52800</td>\n",
       "      <td>53000</td>\n",
       "      <td>53000</td>\n",
       "      <td>154692</td>\n",
       "      <td>44077.996094</td>\n",
       "    </tr>\n",
       "    <tr>\n",
       "      <th>2016-03-02</th>\n",
       "      <td>55200</td>\n",
       "      <td>53500</td>\n",
       "      <td>53900</td>\n",
       "      <td>55100</td>\n",
       "      <td>229999</td>\n",
       "      <td>45824.488281</td>\n",
       "    </tr>\n",
       "    <tr>\n",
       "      <th>2016-03-03</th>\n",
       "      <td>55800</td>\n",
       "      <td>54300</td>\n",
       "      <td>55300</td>\n",
       "      <td>55000</td>\n",
       "      <td>217063</td>\n",
       "      <td>45741.312500</td>\n",
       "    </tr>\n",
       "    <tr>\n",
       "      <th>2016-03-04</th>\n",
       "      <td>54800</td>\n",
       "      <td>53200</td>\n",
       "      <td>54700</td>\n",
       "      <td>54200</td>\n",
       "      <td>237934</td>\n",
       "      <td>45075.992188</td>\n",
       "    </tr>\n",
       "  </tbody>\n",
       "</table>\n",
       "</div>"
      ],
      "text/plain": [
       "             High    Low   Open  Close  Volume     Adj Close\n",
       "Date                                                        \n",
       "2016-02-19  51100  49950  50300  50600  301800  42082.011719\n",
       "2016-02-22  50800  49850  50300  50400  153961  41915.683594\n",
       "2016-02-23  53000  50800  50800  52800  431934  43911.664062\n",
       "2016-02-24  53500  51900  52000  53500  259616  44493.824219\n",
       "2016-02-25  54700  52700  53900  53900  170839  44826.488281\n",
       "2016-02-26  54500  53200  54300  53300  159453  44327.496094\n",
       "2016-02-29  53900  52800  53000  53000  154692  44077.996094\n",
       "2016-03-02  55200  53500  53900  55100  229999  45824.488281\n",
       "2016-03-03  55800  54300  55300  55000  217063  45741.312500\n",
       "2016-03-04  54800  53200  54700  54200  237934  45075.992188"
      ]
     },
     "execution_count": 14,
     "metadata": {},
     "output_type": "execute_result"
    }
   ],
   "source": [
    "gs"
   ]
  },
  {
   "cell_type": "code",
   "execution_count": 17,
   "id": "7c6a7b06",
   "metadata": {},
   "outputs": [],
   "source": [
    "\"\"\"\n",
    "추신: 네이버도 가능하다\n",
    "공식 문서 링크: \n",
    "https://pandas-datareader.readthedocs.io/en/latest/remote_data.html#remote-data-naver\n",
    "\"\"\"\n",
    "stock = web.DataReader(\"000660\", \"naver\", start, end)"
   ]
  },
  {
   "cell_type": "code",
   "execution_count": 18,
   "id": "4cbc148a",
   "metadata": {},
   "outputs": [
    {
     "data": {
      "text/html": [
       "<div>\n",
       "<style scoped>\n",
       "    .dataframe tbody tr th:only-of-type {\n",
       "        vertical-align: middle;\n",
       "    }\n",
       "\n",
       "    .dataframe tbody tr th {\n",
       "        vertical-align: top;\n",
       "    }\n",
       "\n",
       "    .dataframe thead th {\n",
       "        text-align: right;\n",
       "    }\n",
       "</style>\n",
       "<table border=\"1\" class=\"dataframe\">\n",
       "  <thead>\n",
       "    <tr style=\"text-align: right;\">\n",
       "      <th></th>\n",
       "      <th>Open</th>\n",
       "      <th>High</th>\n",
       "      <th>Low</th>\n",
       "      <th>Close</th>\n",
       "      <th>Volume</th>\n",
       "    </tr>\n",
       "    <tr>\n",
       "      <th>Date</th>\n",
       "      <th></th>\n",
       "      <th></th>\n",
       "      <th></th>\n",
       "      <th></th>\n",
       "      <th></th>\n",
       "    </tr>\n",
       "  </thead>\n",
       "  <tbody>\n",
       "    <tr>\n",
       "      <th>2016-02-19</th>\n",
       "      <td>29950</td>\n",
       "      <td>30050</td>\n",
       "      <td>29250</td>\n",
       "      <td>29600</td>\n",
       "      <td>2336536</td>\n",
       "    </tr>\n",
       "    <tr>\n",
       "      <th>2016-02-22</th>\n",
       "      <td>29400</td>\n",
       "      <td>30000</td>\n",
       "      <td>29400</td>\n",
       "      <td>29900</td>\n",
       "      <td>1366180</td>\n",
       "    </tr>\n",
       "    <tr>\n",
       "      <th>2016-02-23</th>\n",
       "      <td>30100</td>\n",
       "      <td>30600</td>\n",
       "      <td>30000</td>\n",
       "      <td>30400</td>\n",
       "      <td>2123648</td>\n",
       "    </tr>\n",
       "    <tr>\n",
       "      <th>2016-02-24</th>\n",
       "      <td>31050</td>\n",
       "      <td>31250</td>\n",
       "      <td>30600</td>\n",
       "      <td>30900</td>\n",
       "      <td>3480563</td>\n",
       "    </tr>\n",
       "    <tr>\n",
       "      <th>2016-02-25</th>\n",
       "      <td>31400</td>\n",
       "      <td>31500</td>\n",
       "      <td>30650</td>\n",
       "      <td>30800</td>\n",
       "      <td>2527297</td>\n",
       "    </tr>\n",
       "    <tr>\n",
       "      <th>2016-02-26</th>\n",
       "      <td>31000</td>\n",
       "      <td>31100</td>\n",
       "      <td>30450</td>\n",
       "      <td>30800</td>\n",
       "      <td>1282277</td>\n",
       "    </tr>\n",
       "    <tr>\n",
       "      <th>2016-02-29</th>\n",
       "      <td>30800</td>\n",
       "      <td>30900</td>\n",
       "      <td>29600</td>\n",
       "      <td>30000</td>\n",
       "      <td>2989861</td>\n",
       "    </tr>\n",
       "    <tr>\n",
       "      <th>2016-03-02</th>\n",
       "      <td>31050</td>\n",
       "      <td>31300</td>\n",
       "      <td>30650</td>\n",
       "      <td>30950</td>\n",
       "      <td>3567312</td>\n",
       "    </tr>\n",
       "    <tr>\n",
       "      <th>2016-03-03</th>\n",
       "      <td>31550</td>\n",
       "      <td>32000</td>\n",
       "      <td>31100</td>\n",
       "      <td>31950</td>\n",
       "      <td>3898363</td>\n",
       "    </tr>\n",
       "    <tr>\n",
       "      <th>2016-03-04</th>\n",
       "      <td>31800</td>\n",
       "      <td>32100</td>\n",
       "      <td>31550</td>\n",
       "      <td>31900</td>\n",
       "      <td>1913316</td>\n",
       "    </tr>\n",
       "  </tbody>\n",
       "</table>\n",
       "</div>"
      ],
      "text/plain": [
       "             Open   High    Low  Close   Volume\n",
       "Date                                           \n",
       "2016-02-19  29950  30050  29250  29600  2336536\n",
       "2016-02-22  29400  30000  29400  29900  1366180\n",
       "2016-02-23  30100  30600  30000  30400  2123648\n",
       "2016-02-24  31050  31250  30600  30900  3480563\n",
       "2016-02-25  31400  31500  30650  30800  2527297\n",
       "2016-02-26  31000  31100  30450  30800  1282277\n",
       "2016-02-29  30800  30900  29600  30000  2989861\n",
       "2016-03-02  31050  31300  30650  30950  3567312\n",
       "2016-03-03  31550  32000  31100  31950  3898363\n",
       "2016-03-04  31800  32100  31550  31900  1913316"
      ]
     },
     "execution_count": 18,
     "metadata": {},
     "output_type": "execute_result"
    }
   ],
   "source": [
    "stock"
   ]
  }
 ],
 "metadata": {
  "kernelspec": {
   "display_name": "Python 3",
   "language": "python",
   "name": "python3"
  },
  "language_info": {
   "codemirror_mode": {
    "name": "ipython",
    "version": 3
   },
   "file_extension": ".py",
   "mimetype": "text/x-python",
   "name": "python",
   "nbconvert_exporter": "python",
   "pygments_lexer": "ipython3",
   "version": "3.8.8"
  },
  "toc": {
   "base_numbering": 1,
   "nav_menu": {},
   "number_sections": true,
   "sideBar": true,
   "skip_h1_title": false,
   "title_cell": "Table of Contents",
   "title_sidebar": "Contents",
   "toc_cell": false,
   "toc_position": {},
   "toc_section_display": true,
   "toc_window_display": false
  }
 },
 "nbformat": 4,
 "nbformat_minor": 5
}
